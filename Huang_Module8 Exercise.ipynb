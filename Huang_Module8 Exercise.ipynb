{
 "cells": [
  {
   "cell_type": "markdown",
   "metadata": {},
   "source": [
    "### Exercise 1\n",
    "Create a multiplication table from 1 to 10"
   ]
  },
  {
   "cell_type": "code",
   "execution_count": 37,
   "metadata": {},
   "outputs": [
    {
     "name": "stdout",
     "output_type": "stream",
     "text": [
      "1  2  3  4  5  6  7  8  9  10   \n",
      "2  4  6  8  10  12  14  16  18  20   \n",
      "3  6  9  12  15  18  21  24  27  30   \n",
      "4  8  12  16  20  24  28  32  36  40   \n",
      "5  10  15  20  25  30  35  40  45  50   \n",
      "6  12  18  24  30  36  42  48  54  60   \n",
      "7  14  21  28  35  42  49  56  63  70   \n",
      "8  16  24  32  40  48  56  64  72  80   \n",
      "9  18  27  36  45  54  63  72  81  90   \n",
      "10  20  30  40  50  60  70  80  90  100   \n"
     ]
    }
   ],
   "source": [
    "for number_set1 in range(1,11):\n",
    "    for number_set2 in range(1,11):\n",
    "        print(number_set1 * number_set2, end=\"  \")\n",
    "    print(\" \")"
   ]
  },
  {
   "cell_type": "markdown",
   "metadata": {},
   "source": [
    "### Exercise 2\n",
    "Write a program to find the Fibonacci numbers where each number is the sum of the two preceding ones, starting from 0 and 1. \n",
    "\n",
    "    e.g.\n",
    "    0, 1, 1, 2, 3, 5, 8, ...\n",
    "    \n",
    "Ask a user to enter a number of sequence. Generate the Fibonacci numbers in to a list. Then, print out the list.  \n",
    "\n",
    "The output should look something like this:\n",
    "\n",
    "    How many Fibonacci numbers would you like to generate? 10    \n",
    "    10 Fibonacci numbers are [0, 1, 1, 2, 3, 5, 8, 13, 21, 34]."
   ]
  },
  {
   "cell_type": "code",
   "execution_count": 33,
   "metadata": {},
   "outputs": [
    {
     "name": "stdout",
     "output_type": "stream",
     "text": [
      "How many Fibonacci numbers would you like to generate? 5\n",
      "0\n",
      "1\n",
      "1\n",
      "2\n",
      "3\n"
     ]
    }
   ],
   "source": [
    "number = int(input (\"How many Fibonacci numbers would you like to generate? \"))               \n",
    "\n",
    "count=0\n",
    "num1=0\n",
    "num2=1\n",
    "while count < number:\n",
    "        print(num1)\n",
    "        num3 = num1 + num2\n",
    "        num1 = num2\n",
    "        num2 = num3\n",
    "        count += 1"
   ]
  }
 ],
 "metadata": {
  "kernelspec": {
   "display_name": "Python 3",
   "language": "python",
   "name": "python3"
  },
  "language_info": {
   "codemirror_mode": {
    "name": "ipython",
    "version": 3
   },
   "file_extension": ".py",
   "mimetype": "text/x-python",
   "name": "python",
   "nbconvert_exporter": "python",
   "pygments_lexer": "ipython3",
   "version": "3.8.8"
  }
 },
 "nbformat": 4,
 "nbformat_minor": 4
}
